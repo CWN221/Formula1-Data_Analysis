{
 "cells": [
  {
   "cell_type": "code",
   "execution_count": null,
   "id": "085c7f30",
   "metadata": {},
   "outputs": [],
   "source": [
    "import os\n",
    "import pandas as pd\n",
    "import matplotlib.pyplot as plt\n",
    "import matplotlib.font_manager as font_manager\n",
    "import matplotlib as mpl\n",
    "\n",
    "font_path = os.path.join('Fonts', 'Formula1_font.ttf')\n",
    "font_manager.fontManager.addfont(font_path)\n",
    "f1_font = font_manager.FontProperties(fname=font_path)"
   ]
  },
  {
   "cell_type": "code",
   "execution_count": null,
   "id": "b31e38fb",
   "metadata": {},
   "outputs": [],
   "source": [
    "seasonCalendar = pd.read_csv('Formula1_2023season_calendar.csv')\n",
    "seasonCalendar.set_index('Round', inplace=True)\n",
    "seasonDrivers = pd.read_csv('Formula1_2023season_drivers.csv')\n",
    "seasonDrivers.set_index('No', inplace=True)\n",
    "seasonTeams = pd.read_csv('Formula1_2023season_teams.csv')\n",
    "seasonTeams.set_index('Team', inplace=True)\n",
    "sprintQualifyingResults = pd.read_csv('Fromula1_2023season_sprintShootoutResults.csv')\n",
    "sprintQualifyingResults.set_index('Track', inplace=True)"
   ]
  },
  {
   "cell_type": "code",
   "execution_count": null,
   "id": "45580c57",
   "metadata": {},
   "outputs": [],
   "source": [
    "seasonCalendar.loc[6, 'Race Date'] = 'Cancelled'\n",
    "seasonCalendar"
   ]
  },
  {
   "cell_type": "code",
   "execution_count": null,
   "id": "51495b06",
   "metadata": {},
   "outputs": [],
   "source": [
    "# ----- 2023 Season Drivers -----\n",
    "def join_driver_info(seasonDrivers):\n",
    "    if 'Driver' in seasonDrivers.columns and 'Abbreviation' in seasonDrivers.columns:\n",
    "        seasonDrivers['DriverInfo'] = seasonDrivers['Driver'].astype(str).str.strip() + ' - ' + seasonDrivers['Abbreviation'].astype(str).str.strip()\n",
    "    else:\n",
    "        print(\"Driver and/or Abbreviation Missing\")\n",
    "    return seasonDrivers\n",
    "join_driver_info(seasonDrivers)\n",
    "info = ['DriverInfo', 'Team', 'Country', 'Podiums', 'Points', 'Grands Prix Entered', 'World Championships', 'Highest Race Finish', 'Highest Grid Position']\n",
    "seasonDrivers[info].head(24)\n"
   ]
  },
  {
   "cell_type": "code",
   "execution_count": null,
   "id": "9860bfb2",
   "metadata": {},
   "outputs": [],
   "source": [
    "# ----- 2023 Season Teams -----\n",
    "seasonTeams"
   ]
  },
  {
   "cell_type": "code",
   "execution_count": null,
   "id": "7e692487",
   "metadata": {},
   "outputs": [],
   "source": [
    "# ----- Sprint Qualifying Results -----\n",
    "\n",
    "# -- Handle missing values\n",
    "sprintQualifyingResults = sprintQualifyingResults.fillna('DNQ')"
   ]
  },
  {
   "cell_type": "code",
   "execution_count": null,
   "id": "0458e0c4",
   "metadata": {},
   "outputs": [],
   "source": [
    "# ----- Sprint Qualifying Results Data Visualization -----\n",
    "\n"
   ]
  }
 ],
 "metadata": {
  "kernelspec": {
   "display_name": "Python 3",
   "language": "python",
   "name": "python3"
  },
  "language_info": {
   "codemirror_mode": {
    "name": "ipython",
    "version": 3
   },
   "file_extension": ".py",
   "mimetype": "text/x-python",
   "name": "python",
   "nbconvert_exporter": "python",
   "pygments_lexer": "ipython3",
   "version": "3.13.1"
  }
 },
 "nbformat": 4,
 "nbformat_minor": 5
}
