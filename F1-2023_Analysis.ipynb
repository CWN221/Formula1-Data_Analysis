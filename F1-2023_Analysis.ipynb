{
 "cells": [
  {
   "cell_type": "code",
   "execution_count": null,
   "id": "085c7f30",
   "metadata": {},
   "outputs": [],
   "source": [
    "import os\n",
    "import pandas as pd\n",
    "import matplotlib.pyplot as plt\n",
    "import matplotlib.font_manager as font_manager\n",
    "import matplotlib as mpl\n",
    "\n",
    "font_path = os.join('Fonts', 'Formula1_font.ttf')\n",
    "font_manager.fontManager.addFont(font_path)\n",
    "f1_font = font_manager.FontPropertier(fname=font_path)"
   ]
  },
  {
   "cell_type": "code",
   "execution_count": null,
   "id": "b31e38fb",
   "metadata": {},
   "outputs": [],
   "source": [
    "seasonDrivers = pd.read_csv('Formula1_2023season_drivers.csv')\n",
    "seasonTeams = pd.read_csv('Formula1_2023season_teams.csv')"
   ]
  },
  {
   "cell_type": "code",
   "execution_count": null,
   "id": "b64caff9",
   "metadata": {},
   "outputs": [],
   "source": [
    "seasonDrivers"
   ]
  }
 ],
 "metadata": {
  "language_info": {
   "name": "python"
  }
 },
 "nbformat": 4,
 "nbformat_minor": 5
}
